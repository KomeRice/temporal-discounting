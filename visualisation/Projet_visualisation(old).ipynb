{
 "cells": [
  {
   "cell_type": "markdown",
   "id": "relevant-jackson",
   "metadata": {},
   "source": [
    "### Import"
   ]
  },
  {
   "cell_type": "code",
   "execution_count": 1,
   "id": "narrow-laugh",
   "metadata": {},
   "outputs": [],
   "source": [
    "import numpy as np\n",
    "import pandas as pd\n",
    "import matplotlib.pyplot as plt\n",
    "import scipy.stats as sc\n",
    "import pandas as pd\n",
    "import seaborn as sns"
   ]
  },
  {
   "cell_type": "markdown",
   "id": "excessive-mandate",
   "metadata": {},
   "source": [
    "# Chargement des donnés"
   ]
  },
  {
   "cell_type": "code",
   "execution_count": 2,
   "id": "elementary-houston",
   "metadata": {},
   "outputs": [
    {
     "name": "stdout",
     "output_type": "stream",
     "text": [
      "Nom des parametres :\n",
      "\n",
      "0 : date\n",
      "1 : user_ip\n",
      "2 : trial_id\n",
      "3 : block_id\n",
      "4 : n_trials\n",
      "5 : n_block\n",
      "6 : block_size\n",
      "7 : target_shape\n",
      "8 : target_id\n",
      "9 : target_freq\n",
      "10 : target_n\n",
      "11 : transition_duration\n",
      "12 : n_locks\n",
      "13 : lock_duration\n",
      "14 : unlock_action\n",
      "15 : lock_state\n",
      "16 : occurence\n",
      "17 : success\n",
      "18 : time\n",
      "19 : time_unlock\n",
      "20 : slider_display_span\n",
      "21 : n_opened_locker\n",
      "22 : first_unlock_occurence\n",
      "23 : first_unlock_trial\n",
      "24 : last_unlock_occurence\n",
      "25 : last_unlock_trial\n",
      "26 : nb_total_click\n",
      "27 : nb_useless_click\n",
      "28 : exp_total_time\n",
      "29 : settings_number\n",
      "30 : test_id\n"
     ]
    }
   ],
   "source": [
    "df = pd.read_csv(\"IHMexpertDATA.csv\")\n",
    "\n",
    "#Ajout d'une ligne qui defini le parametre\n",
    "settings = pd.factorize(pd._libs.lib.fast_zip([df.n_trials.values, df.transition_duration.values,df.n_locks.values,df.lock_duration.values]))\n",
    "test_id = pd.factorize(pd._libs.lib.fast_zip([df.user_ip.values, df.date.values]))\n",
    "df['user_ip'] = pd.factorize(df.user_ip)[0] +1\n",
    "df[\"settings_number\"] = settings[0]\n",
    "df[\"test_id\"] = test_id[0]\n",
    "nbtest = len(test_id[1])\n",
    "columns = list(df.columns)\n",
    "print(\"Nom des parametres :\\n\")\n",
    "for i in range(len(columns)):\n",
    "    print(f'{i} : {columns[i]}')\n",
    "dfGroupedBySetting = df.groupby(df.settings_number)\n",
    "settingLen = len(dfGroupedBySetting)"
   ]
  },
  {
   "cell_type": "code",
   "execution_count": 3,
   "id": "regular-muslim",
   "metadata": {},
   "outputs": [
    {
     "name": "stdout",
     "output_type": "stream",
     "text": [
      "Nombre de d'expérience : 12\n",
      "Taile de la bd : 912 exemples\n"
     ]
    }
   ],
   "source": [
    "print(\"Nombre de d'expérience : \"+ str(nbtest))\n",
    "print(\"Taile de la bd : \"+ str(len(df)) + \" exemples\")"
   ]
  },
  {
   "cell_type": "code",
   "execution_count": 4,
   "id": "compliant-literature",
   "metadata": {},
   "outputs": [
    {
     "name": "stdout",
     "output_type": "stream",
     "text": [
      "---Apercu des 4 settings dans la Dataframe---\n"
     ]
    },
    {
     "data": {
      "text/html": [
       "<div>\n",
       "<style scoped>\n",
       "    .dataframe tbody tr th:only-of-type {\n",
       "        vertical-align: middle;\n",
       "    }\n",
       "\n",
       "    .dataframe tbody tr th {\n",
       "        vertical-align: top;\n",
       "    }\n",
       "\n",
       "    .dataframe thead th {\n",
       "        text-align: right;\n",
       "    }\n",
       "</style>\n",
       "<table border=\"1\" class=\"dataframe\">\n",
       "  <thead>\n",
       "    <tr style=\"text-align: right;\">\n",
       "      <th></th>\n",
       "      <th>settings_number</th>\n",
       "      <th>transition_duration</th>\n",
       "      <th>n_locks</th>\n",
       "      <th>lock_duration</th>\n",
       "    </tr>\n",
       "  </thead>\n",
       "  <tbody>\n",
       "    <tr>\n",
       "      <th>0</th>\n",
       "      <td>0</td>\n",
       "      <td>12000</td>\n",
       "      <td>2</td>\n",
       "      <td>6000</td>\n",
       "    </tr>\n",
       "    <tr>\n",
       "      <th>76</th>\n",
       "      <td>1</td>\n",
       "      <td>12000</td>\n",
       "      <td>6</td>\n",
       "      <td>2000</td>\n",
       "    </tr>\n",
       "    <tr>\n",
       "      <th>152</th>\n",
       "      <td>2</td>\n",
       "      <td>12000</td>\n",
       "      <td>4</td>\n",
       "      <td>3000</td>\n",
       "    </tr>\n",
       "    <tr>\n",
       "      <th>304</th>\n",
       "      <td>3</td>\n",
       "      <td>12000</td>\n",
       "      <td>3</td>\n",
       "      <td>4000</td>\n",
       "    </tr>\n",
       "  </tbody>\n",
       "</table>\n",
       "</div>"
      ],
      "text/plain": [
       "     settings_number  transition_duration  n_locks  lock_duration\n",
       "0                  0                12000        2           6000\n",
       "76                 1                12000        6           2000\n",
       "152                2                12000        4           3000\n",
       "304                3                12000        3           4000"
      ]
     },
     "execution_count": 4,
     "metadata": {},
     "output_type": "execute_result"
    }
   ],
   "source": [
    "print(f\"---Apercu des {settingLen} settings dans la Dataframe---\")\n",
    "dconfig = df[df.columns[[29,11,12,13]]]\n",
    "dconfig = dconfig.groupby(df.settings_number)\n",
    "settingLen = len(dconfig)\n",
    "dconfig.head(1)"
   ]
  },
  {
   "cell_type": "code",
   "execution_count": 5,
   "id": "formed-charger",
   "metadata": {},
   "outputs": [],
   "source": [
    "def getExperience(df,n):\n",
    "    return df.loc[df[\"test_id\"] == n ]"
   ]
  },
  {
   "cell_type": "code",
   "execution_count": 6,
   "id": "comprehensive-maintenance",
   "metadata": {},
   "outputs": [
    {
     "data": {
      "text/html": [
       "<div>\n",
       "<style scoped>\n",
       "    .dataframe tbody tr th:only-of-type {\n",
       "        vertical-align: middle;\n",
       "    }\n",
       "\n",
       "    .dataframe tbody tr th {\n",
       "        vertical-align: top;\n",
       "    }\n",
       "\n",
       "    .dataframe thead th {\n",
       "        text-align: right;\n",
       "    }\n",
       "</style>\n",
       "<table border=\"1\" class=\"dataframe\">\n",
       "  <thead>\n",
       "    <tr style=\"text-align: right;\">\n",
       "      <th></th>\n",
       "      <th>n_block</th>\n",
       "      <th>target_shape</th>\n",
       "      <th>target_freq</th>\n",
       "      <th>target_n</th>\n",
       "    </tr>\n",
       "  </thead>\n",
       "  <tbody>\n",
       "    <tr>\n",
       "      <th>0</th>\n",
       "      <td>4</td>\n",
       "      <td>Circle</td>\n",
       "      <td>4</td>\n",
       "      <td>5</td>\n",
       "    </tr>\n",
       "    <tr>\n",
       "      <th>5</th>\n",
       "      <td>4</td>\n",
       "      <td>Cross</td>\n",
       "      <td>8</td>\n",
       "      <td>5</td>\n",
       "    </tr>\n",
       "    <tr>\n",
       "      <th>1</th>\n",
       "      <td>4</td>\n",
       "      <td>Square</td>\n",
       "      <td>5</td>\n",
       "      <td>5</td>\n",
       "    </tr>\n",
       "    <tr>\n",
       "      <th>3</th>\n",
       "      <td>4</td>\n",
       "      <td>Triangle</td>\n",
       "      <td>2</td>\n",
       "      <td>5</td>\n",
       "    </tr>\n",
       "  </tbody>\n",
       "</table>\n",
       "</div>"
      ],
      "text/plain": [
       "   n_block target_shape  target_freq  target_n\n",
       "0        4       Circle            4         5\n",
       "5        4        Cross            8         5\n",
       "1        4       Square            5         5\n",
       "3        4     Triangle            2         5"
      ]
     },
     "execution_count": 6,
     "metadata": {},
     "output_type": "execute_result"
    }
   ],
   "source": [
    "set1 = getExperience(df,0)\n",
    "set1 = set1[df.columns[[30,29,2,3,4,5,6,7,8,9,10,14,15,16]]]\n",
    "shape = list(np.unique(set1[\"target_shape\"]))\n",
    "shapeList = []\n",
    "for i in shape:\n",
    "    shapeList.append(set1.loc[set1[\"target_shape\"] == i])\n",
    "shapeList[0].head()\n",
    "allconfig = []\n",
    "for i in range(len(shape)):\n",
    "    allconfig.append(shapeList[i][shapeList[i].columns[[4,5,6,7,8,9,10]]].iloc[0])\n",
    "allconfig = pd.DataFrame(allconfig)\n",
    "allconfig[[\"n_block\",\"target_shape\",\"target_freq\",\"target_n\"]]"
   ]
  },
  {
   "cell_type": "code",
   "execution_count": 7,
   "id": "blank-habitat",
   "metadata": {},
   "outputs": [
    {
     "name": "stdout",
     "output_type": "stream",
     "text": [
      "L'experience fait 4 block de taille 19 soit 76 essais\n",
      "Les frequences sont [2, 4, 5, 8]\n"
     ]
    }
   ],
   "source": [
    "total_trial = df[\"n_trials\"].iloc[0]\n",
    "total_block = df[\"n_block\"].iloc[0]\n",
    "total_BlockSize = df[\"block_size\"].iloc[0]\n",
    "print(f\"L'experience fait {total_block} block de taille {total_BlockSize} soit {total_trial} essais\")\n",
    "freq = allconfig[\"target_freq\"].sort_values().tolist()\n",
    "print(f\"Les frequences sont {freq}\")"
   ]
  },
  {
   "cell_type": "markdown",
   "id": "electric-russian",
   "metadata": {},
   "source": [
    "# Fonctions Utiles"
   ]
  },
  {
   "cell_type": "code",
   "execution_count": 8,
   "id": "animal-bunny",
   "metadata": {},
   "outputs": [],
   "source": [
    "def printStats(X):\n",
    "    print(f'Mean : {np.mean(X)}, Min : {np.min(X)}, Max : {np.max(X)}, Std : {np.std(X)}')\n"
   ]
  },
  {
   "cell_type": "code",
   "execution_count": 9,
   "id": "wicked-demonstration",
   "metadata": {},
   "outputs": [],
   "source": [
    "def plot(X,Y,legendX, legendY):\n",
    "    ax = plt.subplot(1,1,1)\n",
    "    ax.set_title(f'{legendX} vs {legendY}')\n",
    "    ax.scatter(x=X,y=Y,label='Data')\n",
    "    plt.plot(X, Y,color='red',label='Fitting Line')\n",
    "    ax.set_xlabel(legendX)\n",
    "    ax.set_ylabel(legendY)\n",
    "    ax.legend(loc='best')\n",
    "    plt.show()\n",
    "    "
   ]
  },
  {
   "cell_type": "code",
   "execution_count": 10,
   "id": "varied-beach",
   "metadata": {},
   "outputs": [],
   "source": [
    "def normalFromTimes(times,mode = None):\n",
    "    ax = plt.subplot(1,1,1)\n",
    "    if type(times) == list:\n",
    "        for i in range(len(times)):\n",
    "            sigma = np.std(times[i])\n",
    "            mu = np.mean(times[i])\n",
    "            Y = sc.norm(mu,sigma)\n",
    "            X = np.linspace(mu - 3*sigma, mu + 3*sigma, 100)\n",
    "            ax.scatter(x=X,y=Y.pdf(X),label=f'Data {mode[i]}')\n",
    "            plt.plot(X, Y.pdf(X),color='red')\n",
    "            ax.set_title(f'Repartition du temps')\n",
    "    else:\n",
    "        sigma = np.std(times)\n",
    "        mu = np.mean(times)\n",
    "        Y = sc.norm(mu,sigma)\n",
    "        X = np.linspace(mu - 3*sigma, mu + 3*sigma, 100)\n",
    "        ax.scatter(x=X,y=Y.pdf(X),label='Data')\n",
    "        plt.plot(X, Y.pdf(X),color='red',label='Fitting Line')\n",
    "        if mode:\n",
    "            ax.set_title(f'Repartition du temps en mode {mode}')\n",
    "    ax.set_xlabel('Temps (en ms)')\n",
    "    ax.legend(loc='best')\n",
    "    plt.show()\n",
    "    "
   ]
  },
  {
   "cell_type": "code",
   "execution_count": 11,
   "id": "brutal-mainstream",
   "metadata": {},
   "outputs": [],
   "source": [
    "def timeToMode(dtime):\n",
    "    mode=[]\n",
    "    setting = []\n",
    "    for i in dtime.index: \n",
    "        for j in range(settingLen):\n",
    "                if dtime[\"settings_number\"][i] == j:\n",
    "                    setting.append(f'{dtime[\"n_locks\"][i]} lock * {dtime[\"lock_duration\"][i]/1000} s')\n",
    "        if dtime[\"n_locks\"][i] == dtime[\"lock_state\"][i]:\n",
    "            mode.append(\"Expert\")\n",
    "        elif dtime[\"unlock_action\"][i] == 1:\n",
    "            mode.append(\"Unlock\")\n",
    "        else:\n",
    "            mode.append(\"Novice\")\n",
    "    copy = dtime.copy()\n",
    "    copy[\"Mode\"] = mode\n",
    "    copy[\"Setting\"] = setting\n",
    "    return copy"
   ]
  },
  {
   "cell_type": "markdown",
   "id": "systematic-clark",
   "metadata": {},
   "source": [
    "# Visualisation"
   ]
  },
  {
   "cell_type": "markdown",
   "id": "ready-cleaner",
   "metadata": {},
   "source": [
    "## Courbe génerale du temps au cours d'une experience entiere"
   ]
  },
  {
   "cell_type": "code",
   "execution_count": 12,
   "id": "ranging-fluid",
   "metadata": {},
   "outputs": [],
   "source": [
    "dtime = df\n",
    "dtime = timeToMode(dtime)\n"
   ]
  },
  {
   "cell_type": "code",
   "execution_count": 13,
   "id": "removed-april",
   "metadata": {},
   "outputs": [],
   "source": [
    "def showTrialbyId(dtime, Id):\n",
    "    id_exp = dtime.loc[dtime[\"test_id\"] == Id ]\n",
    "    sns.relplot(data = id_exp,x=\"trial_id\",y=\"time\",hue=\"Mode\",s=100)\n",
    "    plt.plot(id_exp[\"trial_id\"],id_exp[\"time\"])\n",
    "    plt.title(\"plot of the id \"+str(Id))\n",
    "    \n",
    "def showTrialbySettings(dtime,n):\n",
    "    grp4 = dtime.loc[dtime[\"settings_number\"] == n]\n",
    "    sns.relplot(data = grp4,x=\"trial_id\",y=\"time\",hue=\"Mode\",s=100)\n",
    "    plt.plot(grp4[\"trial_id\"],grp4[\"time\"])\n",
    "    plt.title(\"plot of the setting \"+str(n))\n",
    "    \n",
    "def showTrialbyUser(dtime, user_id):\n",
    "    user1 = dtime.loc[dtime[\"user_ip\"] == user_id]\n",
    "    sns.relplot(data = user1,x=\"trial_id\",y=\"time\",hue=\"Mode\",s=100)\n",
    "    plt.plot(user1[\"trial_id\"],user1[\"time\"])\n",
    "    plt.title(\"plot of the user \"+str(user_id))"
   ]
  },
  {
   "cell_type": "code",
   "execution_count": 14,
   "id": "suffering-clarity",
   "metadata": {},
   "outputs": [],
   "source": [
    "#Choix par settings\n",
    "#showTrialbySettings(dtime,3)"
   ]
  },
  {
   "cell_type": "code",
   "execution_count": 15,
   "id": "advisory-selection",
   "metadata": {},
   "outputs": [],
   "source": [
    "#Choix par utilisateur\n",
    "#showTrialbyUser(dtime,1)"
   ]
  },
  {
   "cell_type": "code",
   "execution_count": 16,
   "id": "talented-welding",
   "metadata": {},
   "outputs": [
    {
     "data": {
      "image/png": "[encoded data removed]",
      "text/plain": [
       "<Figure size 429.875x360 with 1 Axes>"
      ]
     },
     "metadata": {
      "needs_background": "light"
     },
     "output_type": "display_data"
    }
   ],
   "source": [
    "#choix par id de l'experience\n",
    "showTrialbyId(dtime,5)"
   ]
  },
  {
   "cell_type": "markdown",
   "id": "ahead-wonder",
   "metadata": {},
   "source": [
    "## Graphes de Gauss des differents modes"
   ]
  },
  {
   "cell_type": "code",
   "execution_count": 17,
   "id": "pediatric-clerk",
   "metadata": {},
   "outputs": [],
   "source": [
    "dtimeExpertMode = dtime.loc[dtime[\"n_locks\"] == dtime[\"lock_state\"]].copy()\n",
    "dtimeExpertMode['Mode'] = \"Expert\"\n",
    "\n",
    "dtimeUnlock = dtime.loc[dtime[\"unlock_action\"] == 1].copy()\n",
    "dtimeUnlock['Mode'] = \"Unlock\"\n",
    "\n",
    "dtimeNovice = dtime.drop(dtimeExpertMode.index).copy()\n",
    "dtimeNovice = dtimeNovice.drop(dtimeUnlock.index)\n",
    "dtimeNovice = dtimeNovice.drop(dtimeNovice.loc[dtimeNovice['time']>10000].index) #drop values >10s\n",
    "\n",
    "dtimeNovice['Mode'] = \"Novice\""
   ]
  },
  {
   "cell_type": "code",
   "execution_count": 18,
   "id": "static-proof",
   "metadata": {},
   "outputs": [
    {
     "data": {
      "image/png": "[encoded data removed]",
      "text/plain": [
       "<Figure size 432x288 with 1 Axes>"
      ]
     },
     "metadata": {
      "needs_background": "light"
     },
     "output_type": "display_data"
    },
    {
     "name": "stdout",
     "output_type": "stream",
     "text": [
      "Mode Novice : \n",
      "Mean : 3870.0150375939847, Min : 2368, Max : 8620, Std : 1372.467669394536\n",
      "Mode Expert : \n",
      "Mean : 1473.6048387096773, Min : 627, Max : 10177, Std : 685.9547433880656\n"
     ]
    }
   ],
   "source": [
    "normalFromTimes([dtimeNovice.time,dtimeExpertMode.time],[\"Novice\",'Expert'])\n",
    "print(\"Mode Novice : \")\n",
    "meanNovice = np.mean(dtimeNovice.time)\n",
    "printStats(dtimeNovice.time)\n",
    "print(\"Mode Expert : \")\n",
    "meanExpert = np.mean(dtimeExpertMode.time)\n",
    "printStats(dtimeExpertMode.time)"
   ]
  },
  {
   "cell_type": "code",
   "execution_count": 19,
   "id": "8e8d5f69",
   "metadata": {},
   "outputs": [
    {
     "data": {
      "image/png": "[encoded data removed]",
      "text/plain": [
       "<Figure size 432x288 with 1 Axes>"
      ]
     },
     "metadata": {
      "needs_background": "light"
     },
     "output_type": "display_data"
    }
   ],
   "source": [
    "dr = pd.concat([dtimeExpertMode,dtimeNovice])\n",
    "ax3 = sns.barplot(y = \"time\",x = \"Mode\", data = dr)\n",
    "plt.title(\"Temps en fonction des Mode\")\n",
    "plt.show()\n"
   ]
  },
  {
   "cell_type": "code",
   "execution_count": 20,
   "id": "31b12485",
   "metadata": {},
   "outputs": [
    {
     "data": {
      "image/png": "[encoded data removed]",
      "text/plain": [
       "<Figure size 429.875x360 with 1 Axes>"
      ]
     },
     "metadata": {
      "needs_background": "light"
     },
     "output_type": "display_data"
    }
   ],
   "source": [
    "ax2 = sns.displot(x = \"time\", hue = \"Mode\",kde = True, data = dtime)\n",
    "plt.title(\"Gaussiennes temps en fonction des Mode\")\n",
    "plt.show()"
   ]
  },
  {
   "cell_type": "code",
   "execution_count": 21,
   "id": "superior-wilson",
   "metadata": {},
   "outputs": [],
   "source": [
    "unlock = dtime[~dtime[\"Mode\"].isin([\"Novice\",\"Expert\"])].copy()\n",
    "unlock[\"slideTime\"] = unlock[\"time\"]-unlock[\"time_unlock\"]\n",
    "#ax3 = sns.displot(x = \"slideTime\", hue = \"Mode\",kind = \"kde\", data = unlock)"
   ]
  },
  {
   "cell_type": "code",
   "execution_count": 22,
   "id": "responsible-virtue",
   "metadata": {},
   "outputs": [
    {
     "data": {
      "image/png": "[encoded data removed]",
      "text/plain": [
       "<Figure size 461.125x360 with 1 Axes>"
      ]
     },
     "metadata": {
      "needs_background": "light"
     },
     "output_type": "display_data"
    }
   ],
   "source": [
    "ax4 = sns.displot(x = \"slider_display_span\", hue = \"Setting\",kind = \"kde\", data = unlock)"
   ]
  },
  {
   "cell_type": "code",
   "execution_count": 23,
   "id": "incorporate-oracle",
   "metadata": {},
   "outputs": [
    {
     "data": {
      "image/png": "[encoded data removed]",
      "text/plain": [
       "<Figure size 432x288 with 1 Axes>"
      ]
     },
     "metadata": {
      "needs_background": "light"
     },
     "output_type": "display_data"
    }
   ],
   "source": [
    "ax4 = sns.barplot(y = \"slider_display_span\", x = \"Setting\", data = unlock, order = [\"2 lock * 6.0 s\",\"3 lock * 4.0 s\",\"4 lock * 3.0 s\",\"6 lock * 2.0 s\"])"
   ]
  },
  {
   "cell_type": "code",
   "execution_count": 24,
   "id": "academic-example",
   "metadata": {},
   "outputs": [
    {
     "name": "stdout",
     "output_type": "stream",
     "text": [
      "Moyenne pour 2 lock * 6.0 s\n",
      "6286.571428571428\n",
      "Moyenne pour 3 lock * 4.0 s\n",
      "4410.047619047619\n",
      "Moyenne pour 4 lock * 3.0 s\n",
      "3262.468085106383\n",
      "Moyenne pour 6 lock * 2.0 s\n",
      "2233.1746031746034\n"
     ]
    }
   ],
   "source": [
    "unlock_grp = unlock.groupby([\"Setting\"])\n",
    "means_unlock = {}\n",
    "for id,grp in unlock_grp:\n",
    "    #filtre les essais avec 1 seconde de plus que prévu\n",
    "    print(f\"Moyenne pour {grp['Setting'].iloc[0]}\")\n",
    "    print(grp[grp[\"slider_display_span\"]<grp[\"lock_duration\"]+1000][\"slider_display_span\"].mean())\n",
    "    means_unlock[grp['Setting'].iloc[0]] = grp[grp[\"slider_display_span\"]<grp[\"lock_duration\"]+1000][\"slider_display_span\"].mean()\n"
   ]
  },
  {
   "cell_type": "markdown",
   "id": "significant-parameter",
   "metadata": {},
   "source": [
    "## Courbe théorique"
   ]
  },
  {
   "cell_type": "code",
   "execution_count": 29,
   "id": "comic-leader",
   "metadata": {},
   "outputs": [],
   "source": [
    "def MakeTheo():\n",
    "    theorique = {\"Setting\":[],\"frequence\":[],\"Mode\" : [], \"temps\": []}\n",
    "    mode = [\"novice\",\"expert\"]\n",
    "    means_unlock = {\"6 lock * 2.0 s\":(6,2233.1),\"4 lock * 3.0 s\":(4,3262),\"3 lock * 4.0 s\":(3,4410.0),\"2 lock * 6.0 s\":(2,6286.5)}\n",
    "    freq = [8,5,4,2]\n",
    "    for sett in means_unlock:\n",
    "        for m in mode:\n",
    "            nblock,timelock = means_unlock[sett]\n",
    "            for f in freq:\n",
    "                theorique[\"Setting\"].append(sett)\n",
    "                theorique[\"Mode\"].append(m)\n",
    "                theorique[\"frequence\"].append(f)\n",
    "\n",
    "                if m == \"novice\" : \n",
    "                    theorique[\"temps\"].append(np.ceil(meanNovice))\n",
    "                else:\n",
    "                    if f*total_block >= nblock:\n",
    "                        expertTime = ((meanNovice + timelock)*nblock + (f*total_block-nblock)*meanExpert)\n",
    "                    else:\n",
    "                        expertTime = ((meanNovice + timelock)*(f*total_block))\n",
    "                    theorique[\"temps\"].append(np.ceil(expertTime/(f*total_block)))\n",
    "    return pd.DataFrame(theorique)\n",
    "theo = MakeTheo()"
   ]
  },
  {
   "cell_type": "code",
   "execution_count": 30,
   "id": "failing-cancellation",
   "metadata": {},
   "outputs": [
    {
     "name": "stdout",
     "output_type": "stream",
     "text": [
      "['2 lock * 6.0 s' '6 lock * 2.0 s' '4 lock * 3.0 s' '3 lock * 4.0 s']\n",
      "[6000 2000 3000 4000]\n",
      "[2 6 4 3]\n"
     ]
    }
   ],
   "source": [
    "print(dtime[\"Setting\"].unique())\n",
    "print(dtime[\"lock_duration\"].unique())\n",
    "print(dtime[\"n_locks\"].unique())"
   ]
  },
  {
   "cell_type": "code",
   "execution_count": 31,
   "id": "aging-tower",
   "metadata": {},
   "outputs": [],
   "source": [
    "user = {\"Setting\":[],\"frequence\":[],\"Mode\" : [], \"temps\": []}\n",
    "means_unlock = means_unlock = {\"6 lock * 2.0 s\":(6,2233.1),\"4 lock * 3.0 s\":(4,3262),\"3 lock * 4.0 s\":(3,4410.0),\"2 lock * 6.0 s\":(2,6286.5)}\n",
    "freq = [8,5,4,2]\n",
    "for sett in means_unlock:\n",
    "    for f in freq:\n",
    "        user[\"Setting\"].append(sett)\n",
    "        user[\"Mode\"].append(\"User\")\n",
    "        user[\"frequence\"].append(f)\n",
    "        userTime = dtime.loc[(dtime[\"target_freq\"] == f)&(dtime[\"Setting\"] == sett)][\"time\"].mean()\n",
    "        user[\"temps\"].append(userTime)\n",
    "user = pd.DataFrame(user)\n",
    "res = pd.concat([theo,user])"
   ]
  },
  {
   "cell_type": "code",
   "execution_count": 32,
   "id": "unusual-settle",
   "metadata": {},
   "outputs": [
    {
     "data": {
      "text/plain": [
       "<seaborn.axisgrid.FacetGrid at 0x1c4e8249310>"
      ]
     },
     "execution_count": 32,
     "metadata": {},
     "output_type": "execute_result"
    },
    {
     "data": {
      "image/png": "[encoded data removed]",
      "text/plain": [
       "<Figure size 1508.75x720 with 4 Axes>"
      ]
     },
     "metadata": {
      "needs_background": "light"
     },
     "output_type": "display_data"
    }
   ],
   "source": [
    "sns.catplot(data =res, x = \"frequence\", y =\"temps\",hue = \"Mode\",col = \"Setting\",kind = \"bar\",height=10,aspect=0.5)\n"
   ]
  },
  {
   "cell_type": "code",
   "execution_count": 119,
   "id": "together-mathematics",
   "metadata": {},
   "outputs": [
    {
     "data": {
      "text/plain": [
       "<AxesSubplot:xlabel='frequence', ylabel='temps'>"
      ]
     },
     "execution_count": 119,
     "metadata": {},
     "output_type": "execute_result"
    },
    {
     "data": {
      "image/png": "[encoded data removed]",
      "text/plain": [
       "<Figure size 432x288 with 1 Axes>"
      ]
     },
     "metadata": {
      "needs_background": "light"
     },
     "output_type": "display_data"
    }
   ],
   "source": [
    "diff = {\"Setting\":[],\"frequence\":[],\"temps\": []}\n",
    "for f in freq:\n",
    "    for sett in means_unlock:\n",
    "        curr = res.loc[(res[\"frequence\"]==f)&(res[\"Setting\"]==sett)]\n",
    "        novice = curr.loc[curr[\"Mode\"] == \"novice\"][\"temps\"].reset_index(drop=True)\n",
    "        user = curr.loc[curr[\"Mode\"] == \"User\"][\"temps\"].reset_index(drop=True)\n",
    "        diff[\"Setting\"].append(sett)\n",
    "        diff[\"frequence\"].append(f)\n",
    "        diff[\"temps\"].append(np.abs(novice-user).loc[0])\n",
    "diff = pd.DataFrame(diff)\n",
    "sns.barplot(data = diff,x = \"frequence\",y=\"temps\",hue=\"Setting\")"
   ]
  },
  {
   "cell_type": "markdown",
   "id": "sound-tomato",
   "metadata": {},
   "source": [
    "## All config"
   ]
  },
  {
   "cell_type": "code",
   "execution_count": 29,
   "id": "ea33d841",
   "metadata": {},
   "outputs": [],
   "source": [
    "#sns.kdeplot(data=a, x=\"n_opened_locker\",hue=\"Setting\")"
   ]
  },
  {
   "cell_type": "code",
   "execution_count": 30,
   "id": "28c205a7",
   "metadata": {},
   "outputs": [],
   "source": [
    "#sns.barplot(data= a, y=\"n_opened_locker\",x=\"Setting\")"
   ]
  },
  {
   "cell_type": "code",
   "execution_count": 31,
   "id": "destroyed-graduate",
   "metadata": {},
   "outputs": [],
   "source": [
    "#sns.kdeplot(data=a, x=\"first_unlock_occurence\",hue=\"Setting\")"
   ]
  },
  {
   "cell_type": "code",
   "execution_count": 32,
   "id": "owned-carter",
   "metadata": {},
   "outputs": [],
   "source": [
    "#sns.kdeplot(data=a, x=\"last_unlock_occurence\",hue=\"Setting\")"
   ]
  },
  {
   "cell_type": "markdown",
   "id": "affecting-infrared",
   "metadata": {},
   "source": [
    "## By form"
   ]
  },
  {
   "cell_type": "code",
   "execution_count": 33,
   "id": "brazilian-defensive",
   "metadata": {},
   "outputs": [],
   "source": [
    "tests = [timeToMode(getExperience(df,i)) for i in range(nbtest)]\n",
    "#b = []\n",
    "#for test in tests:\n",
    "#    c = test[test[\"unlock_action\"]== 1][\"target_shape\"].value_counts()\n",
    "#    c.name = None\n",
    "#    print(test[\"Setting\"].iloc[0])\n",
    "\n",
    "#    b.append((c, test[test[\"unlock_action\"]== 1][\"Setting\"]))"
   ]
  },
  {
   "cell_type": "code",
   "execution_count": 34,
   "id": "current-savage",
   "metadata": {},
   "outputs": [],
   "source": [
    "#d = {}\n",
    "#for cpt,setting in b:\n",
    "#    if setting not in d:\n",
    "#        d[setting] = pd.DataFrame(cpt)\n",
    "#    else: \n",
    "#        d[setting] = pd.concat([d[setting],cpt], axis = 1).fillna(0)\n",
    "\n",
    "#for e in d:\n",
    "#    d[e] = d[e].transpose()"
   ]
  },
  {
   "cell_type": "code",
   "execution_count": 35,
   "id": "employed-gauge",
   "metadata": {},
   "outputs": [],
   "source": [
    "#for e in d: \n",
    "#    sns.displot(kind = \"kde\", data = d[e])\n",
    "#    plt.title(f\"Repartition des unlock dans le mode \" + e)\n",
    "#    plt.xlabel(\"nombre d'unlock\")"
   ]
  },
  {
   "cell_type": "code",
   "execution_count": 36,
   "id": "trained-universe",
   "metadata": {},
   "outputs": [],
   "source": [
    "#for e in d:\n",
    "#    print(pd.DataFrame(d[e]))"
   ]
  },
  {
   "cell_type": "markdown",
   "id": "funded-continuity",
   "metadata": {},
   "source": [
    "## By freq"
   ]
  },
  {
   "cell_type": "code",
   "execution_count": 37,
   "id": "demanding-scout",
   "metadata": {},
   "outputs": [],
   "source": [
    "dp = df[df.columns[[30,29,1,2,7,9,12,13,14,15,18,19,20,21]]]\n",
    "dp = timeToMode(dp)\n",
    "unlocked = dp"
   ]
  },
  {
   "cell_type": "code",
   "execution_count": 38,
   "id": "efficient-voice",
   "metadata": {},
   "outputs": [],
   "source": [
    "b = pd.DataFrame(unlocked.groupby([\"test_id\",\"Setting\",\"target_freq\"],group_keys=False)[[\"lock_state\"]].max())\n",
    "b[\"lock_state\"]+=1\n",
    "b.reset_index(inplace = True)"
   ]
  },
  {
   "cell_type": "markdown",
   "id": "preliminary-execution",
   "metadata": {},
   "source": [
    "## nombre de deverouillage en fonction de la frequence d'apparition pour chaque mode"
   ]
  },
  {
   "cell_type": "code",
   "execution_count": 39,
   "id": "organized-preparation",
   "metadata": {},
   "outputs": [
    {
     "data": {
      "text/plain": [
       "<AxesSubplot:xlabel='target_freq', ylabel='lock_state'>"
      ]
     },
     "execution_count": 39,
     "metadata": {},
     "output_type": "execute_result"
    },
    {
     "data": {
      "image/png": "[encoded data removed]",
      "text/plain": [
       "<Figure size 432x288 with 1 Axes>"
      ]
     },
     "metadata": {
      "needs_background": "light"
     },
     "output_type": "display_data"
    }
   ],
   "source": [
    "sns.lineplot(data = b, x = \"target_freq\", y=\"lock_state\",hue=\"Setting\")"
   ]
  },
  {
   "cell_type": "code",
   "execution_count": 40,
   "id": "banner-sailing",
   "metadata": {},
   "outputs": [],
   "source": [
    "def addset(row):\n",
    "    return f'{row[\"n_locks\"]} lock * {row[\"lock_duration\"]/1000} s'"
   ]
  },
  {
   "cell_type": "code",
   "execution_count": 41,
   "id": "signal-population",
   "metadata": {},
   "outputs": [],
   "source": [
    "dg = dp.copy()\n",
    "dg[\"setting\"] = dg.apply(lambda row:addset(row),axis = 1)\n",
    "dgroup = dg.groupby([\"test_id\"])"
   ]
  },
  {
   "cell_type": "code",
   "execution_count": 42,
   "id": "pending-transmission",
   "metadata": {},
   "outputs": [],
   "source": [
    "d = {\"epreuve\":[], \"setting\":[], \"nbnovice\":[], \"nbexpert\":[]}\n",
    "for no,group in dgroup:\n",
    "    d[\"epreuve\"].append(no)\n",
    "    d[\"setting\"].append(group.iloc[0][\"setting\"])\n",
    "    d[\"nbnovice\"].append(group[group[\"Mode\"]==\"Novice\"].count(numeric_only=True)[0] )\n",
    "    d[\"nbexpert\"].append(group[group[\"Mode\"]==\"Expert\"].count(numeric_only=True)[0])\n",
    "dg = pd.DataFrame(d)"
   ]
  },
  {
   "cell_type": "markdown",
   "id": "fossil-atlantic",
   "metadata": {},
   "source": [
    "## Nb de d'utilisation du mode novice selon les config"
   ]
  },
  {
   "cell_type": "code",
   "execution_count": 43,
   "id": "unauthorized-tenant",
   "metadata": {},
   "outputs": [
    {
     "data": {
      "text/plain": [
       "<AxesSubplot:xlabel='setting', ylabel='nbnovice'>"
      ]
     },
     "execution_count": 43,
     "metadata": {},
     "output_type": "execute_result"
    },
    {
     "data": {
      "image/png": "[encoded data removed]",
      "text/plain": [
       "<Figure size 432x288 with 1 Axes>"
      ]
     },
     "metadata": {
      "needs_background": "light"
     },
     "output_type": "display_data"
    }
   ],
   "source": [
    "sns.barplot(data= dg,x = \"setting\",y=\"nbnovice\")"
   ]
  },
  {
   "cell_type": "markdown",
   "id": "express-cornwall",
   "metadata": {},
   "source": [
    "## Nb de d'utilisation du mode expert selon les config"
   ]
  },
  {
   "cell_type": "code",
   "execution_count": 44,
   "id": "convenient-element",
   "metadata": {},
   "outputs": [
    {
     "data": {
      "text/plain": [
       "<AxesSubplot:xlabel='setting', ylabel='nbexpert'>"
      ]
     },
     "execution_count": 44,
     "metadata": {},
     "output_type": "execute_result"
    },
    {
     "data": {
      "image/png": "[encoded data removed]",
      "text/plain": [
       "<Figure size 432x288 with 1 Axes>"
      ]
     },
     "metadata": {
      "needs_background": "light"
     },
     "output_type": "display_data"
    }
   ],
   "source": [
    "sns.barplot(data= dg,x = \"setting\",y=\"nbexpert\")"
   ]
  },
  {
   "cell_type": "code",
   "execution_count": 20,
   "id": "signal-visitor",
   "metadata": {},
   "outputs": [],
   "source": [
    "nblock = [1,2,3,4,5,6]\n",
    "freq = [8,6,4,1]\n",
    "Bloc = 4\n",
    "Total = 76\n",
    "noviceTime = 4.2\n",
    "expertTime = 1.8\n",
    "tempsLearning = 30\n",
    "tempSlider = [tempsLearning/lock-noviceTime for lock in nblock]\n"
   ]
  },
  {
   "cell_type": "code",
   "execution_count": 22,
   "id": "fallen-bulletin",
   "metadata": {},
   "outputs": [],
   "source": [
    "theo = {\"nblock\":[],\"frequence\":[],\"Mode\" : [], \"temps\": []}\n",
    "for lock in range(len(nblock)):\n",
    "    for f in freq:\n",
    "        for m in [\"novice\",\"expert\"]:\n",
    "            theo[\"nblock\"].append(lock)\n",
    "            theo[\"frequence\"].append(f)\n",
    "            if m == \"novice\" : \n",
    "                theo[\"temps\"].append(noviceTime)\n",
    "                theo[\"Mode\"].append(\"Novice\")\n",
    "            else:\n",
    "                if f*Bloc >= nblock[lock]:\n",
    "                    a = ((noviceTime + tempSlider[lock])*nblock[lock] + (f*Bloc-nblock[lock])*expertTime)\n",
    "                else:\n",
    "                    a = ((noviceTime + tempSlider[lock])*(f*Bloc))\n",
    "                theo[\"Mode\"].append(\"Expert\")\n",
    "                theo[\"temps\"].append(a/(f*Bloc))\n",
    "\n",
    "theo = pd.DataFrame(theo)\n"
   ]
  },
  {
   "cell_type": "code",
   "execution_count": 28,
   "id": "technical-plant",
   "metadata": {},
   "outputs": [
    {
     "data": {
      "text/plain": [
       "<seaborn.axisgrid.FacetGrid at 0x187c63516a0>"
      ]
     },
     "execution_count": 28,
     "metadata": {},
     "output_type": "execute_result"
    },
    {
     "data": {
      "image/png": "[encoded data removed]",
      "text/plain": [
       "<Figure size 429.875x360 with 1 Axes>"
      ]
     },
     "metadata": {
      "needs_background": "light"
     },
     "output_type": "display_data"
    }
   ],
   "source": [
    "sns.catplot(data =theo, x = \"frequence\", y =\"temps\",hue = \"Mode\",kind = \"bar\",height=5,aspect=1)"
   ]
  },
  {
   "cell_type": "code",
   "execution_count": null,
   "id": "charming-saturday",
   "metadata": {},
   "outputs": [],
   "source": []
  }
 ],
 "metadata": {
  "kernelspec": {
   "display_name": "Python 3 (ipykernel)",
   "language": "python",
   "name": "python3"
  },
  "language_info": {
   "codemirror_mode": {
    "name": "ipython",
    "version": 3
   },
   "file_extension": ".py",
   "mimetype": "text/x-python",
   "name": "python",
   "nbconvert_exporter": "python",
   "pygments_lexer": "ipython3",
   "version": "3.9.1"
  }
 },
 "nbformat": 4,
 "nbformat_minor": 5
}
